{
 "cells": [
  {
   "cell_type": "markdown",
   "metadata": {},
   "source": [
    "### Code to accompany Module 2: Object-Oriented Programming and Testing"
   ]
  },
  {
   "cell_type": "code",
   "execution_count": 2,
   "metadata": {},
   "outputs": [],
   "source": [
    "# for each mascot record, list its name, description, and participating events\n",
    "jonathan = [\"Jonathan\", \"husky\", \"mbb_butler_0121\", \"wbb_villanova_0122\", \"mhockey_quinnipiac_0124\"]\n",
    "\n",
    "def get_name(mascot):\n",
    "    return mascot[0]\n",
    "def description(mascot):\n",
    "    return mascot[1]\n",
    "def get_events(mascot):\n",
    "    return mascot[2:]"
   ]
  },
  {
   "cell_type": "code",
   "execution_count": 4,
   "metadata": {},
   "outputs": [],
   "source": [
    "# do these functions work? Yeah, but not ideal. Not flexible. Also if colors added below, limited to certain entries for EVERY entry."
   ]
  },
  {
   "cell_type": "code",
   "execution_count": 3,
   "metadata": {},
   "outputs": [],
   "source": [
    "# let's add fields for school colors \n",
    "jonathan = [\"Jonathan\", \"husky\", \"blue\", \"white\", \n",
    "            \"mbb_butler_0121\", \"wbb_villanova_0122\", \"mhockey_quinnipiac_0124\"]\n",
    "\n",
    "def get_name(mascot):\n",
    "    return mascot[0]\n",
    "def description(mascot):\n",
    "    return mascot[1]\n",
    "def get_events(mascot):\n",
    "    return mascot[2:]"
   ]
  },
  {
   "cell_type": "code",
   "execution_count": 1,
   "metadata": {},
   "outputs": [],
   "source": [
    "# we can define a class instead * [i for i in colors] works incase it isnt a tuple, but adds it to the tuple\n",
    "class mascot:\n",
    "    def __init__(self, name, description, colors=(), events=()):\n",
    "        self.name = name\n",
    "        self.description = description\n",
    "        self.colors = [i for i in colors]\n",
    "        self._events = [i for i in events] "
   ]
  },
  {
   "cell_type": "code",
   "execution_count": 2,
   "metadata": {},
   "outputs": [
    {
     "name": "stdout",
     "output_type": "stream",
     "text": [
      "Jonathan\n",
      "husky\n",
      "['blue', 'white']\n",
      "['mbb_butler_0121', 'wbb_villanova_0122', 'mhockey_quinnipiac_0124']\n"
     ]
    }
   ],
   "source": [
    "# now we'll construct the record for jonathan according to the class structure\n",
    "jonathan = mascot(\"Jonathan\", \"husky\", [\"blue\", \"white\"], \n",
    "            [\"mbb_butler_0121\", \"wbb_villanova_0122\", \"mhockey_quinnipiac_0124\"])\n",
    "\n",
    "# return the components\n",
    "print(jonathan.name)\n",
    "print(jonathan.description)\n",
    "print(jonathan.colors)\n",
    "print(jonathan._events)\n"
   ]
  },
  {
   "cell_type": "code",
   "execution_count": null,
   "metadata": {},
   "outputs": [],
   "source": [
    "# what happens when we try to print the whole object?\n",
    "jonathan = mascot(\"Jonathan\", \"husky\", [\"blue\", \"white\"], \n",
    "            [\"mbb_butler_0121\", \"wbb_villanova_0122\", \"mhockey_quinnipiac_0124\"])\n",
    "\n",
    "print(jonathan)"
   ]
  },
  {
   "cell_type": "code",
   "execution_count": 16,
   "metadata": {},
   "outputs": [],
   "source": [
    "# we can set up a method to help with this\n",
    "class mascot:\n",
    "    def __init__(self, name, description, colors=(), events=()):\n",
    "        self.name = name\n",
    "        self.description = description\n",
    "        self.colors = [i for i in colors]\n",
    "        self._events = [i for i in events]\n",
    "    def __str__(self):\n",
    "        return f\"Mascot: {self.name} the {self.description}\""
   ]
  },
  {
   "cell_type": "code",
   "execution_count": null,
   "metadata": {},
   "outputs": [],
   "source": [
    "# did that work?\n",
    "jonathan = mascot(\"Jonathan\", \"husky\", [\"blue\", \"white\"], \n",
    "            [\"mbb_butler_0121\", \"wbb_villanova_0122\", \"mhockey_quinnipiac_0124\"])\n",
    "\n",
    "print(jonathan)"
   ]
  },
  {
   "cell_type": "markdown",
   "metadata": {},
   "source": [
    "### Create a `Car` Class\n",
    "\n",
    "### Requirements:\n",
    "\n",
    "1. **Attributes**:\n",
    "   - `make`: The car's manufacturer (e.g., \"Toyota\").\n",
    "   - `model`: The specific model of the car (e.g., \"Corolla\").\n",
    "   - `year`: The year the car was manufactured (e.g., 2020).\n",
    "   - `is_running`: A boolean attribute that tracks whether the car is running or not (initially set to `False`).\n",
    "\n",
    "2. **Methods**:\n",
    "   - `start()`: If the car is not already running, this method should set `is_running` to `True` and print a message like `\"The [make] [model] is now running!\"`.\n",
    "   - `stop()`: If the car is running, this method should set `is_running` to `False` and print a message like `\"The [make] [model] has stopped.\"`.\n",
    "   - `__str__()`: This method should print the car's information in the format: `\"Year: [year], Make: [make], Model: [model]\"`.\n"
   ]
  },
  {
   "cell_type": "code",
   "execution_count": 9,
   "metadata": {},
   "outputs": [
    {
     "name": "stdout",
     "output_type": "stream",
     "text": [
      "The Honda Civic is now running!\n",
      "Year: 2006, Make: Honda, Model: Civic\n"
     ]
    }
   ],
   "source": [
    "class Car:\n",
    "    def __init__(self, make, model, year, is_running=False):\n",
    "        self.make=make\n",
    "        self.model=model\n",
    "        self.year=int(year)\n",
    "        self.is_running=is_running\n",
    "    \n",
    "    def start(self):\n",
    "        if self.is_running == False:\n",
    "            self.is_running = True\n",
    "        return(f'The {self.make} {self.model} is now running!')\n",
    "    \n",
    "    def stop(self):\n",
    "        self.is_running = False\n",
    "        return(f'The {self.make} {self.model} has stopped')\n",
    "    \n",
    "    def __str__(self):\n",
    "        return(f'Year: {self.year}, Make: {self.make}, Model: {self.model}')\n",
    "\n",
    "my_car = Car('Honda', 'Civic', 2006, False)\n",
    "print(my_car)"
   ]
  },
  {
   "cell_type": "code",
   "execution_count": 4,
   "metadata": {},
   "outputs": [
    {
     "ename": "NameError",
     "evalue": "name 'Car' is not defined",
     "output_type": "error",
     "traceback": [
      "\u001b[1;31m---------------------------------------------------------------------------\u001b[0m",
      "\u001b[1;31mNameError\u001b[0m                                 Traceback (most recent call last)",
      "Cell \u001b[1;32mIn[4], line 1\u001b[0m\n\u001b[1;32m----> 1\u001b[0m my_car \u001b[38;5;241m=\u001b[39m \u001b[43mCar\u001b[49m(\u001b[38;5;124m'\u001b[39m\u001b[38;5;124mCivic\u001b[39m\u001b[38;5;124m'\u001b[39m, \u001b[38;5;241m2006\u001b[39m, \u001b[38;5;28;01mFalse\u001b[39;00m)\n\u001b[0;32m      2\u001b[0m \u001b[38;5;28mprint\u001b[39m(my_car)\n",
      "\u001b[1;31mNameError\u001b[0m: name 'Car' is not defined"
     ]
    }
   ],
   "source": []
  },
  {
   "cell_type": "code",
   "execution_count": 42,
   "metadata": {},
   "outputs": [
    {
     "name": "stdout",
     "output_type": "stream",
     "text": [
      "The Honda Civic is now running!\n"
     ]
    }
   ],
   "source": [
    "# Create a class for ElectricCar that inherits from Car\n",
    "\n",
    "class Car:\n",
    "    def __init__(self, make, model, year, is_running=False):\n",
    "        self.make=make\n",
    "        self.model=model\n",
    "        self.year=int(year)\n",
    "        self.is_running=is_running\n",
    "        self._num_starts =  0\n",
    "    \n",
    "    def start(self):\n",
    "        self.is_running = True\n",
    "        if self._check_starter_health() == True:\n",
    "            return(f'The {self.make} {self.model} is now running!')\n",
    "            self._num_starts += 1\n",
    "        else:\n",
    "            return(f\"The {self.make} {self.model} won't turn over.\")\n",
    "    \n",
    "    def stop(self):\n",
    "        self.is_running = False\n",
    "        return(f'The {self.make} {self.model} has stopped')\n",
    "    \n",
    "    def __str__(self):\n",
    "        return(f'Year: {self.year}, Make: {self.make}, Model: {self.model}')\n",
    "    \n",
    "    def _check_starter_health(self):\n",
    "        return(self._num_starts <= 5000) \n",
    "    \n",
    "class ElectricCar(Car):\n",
    "    def __init__(self, make, model, year,):\n",
    "        super().__init__(make, model, year)\n",
    "        self._battery_level = 100 \n",
    "    \n",
    "    def drive(self, miles):\n",
    "        if self._check_charge():\n",
    "            print(f'driving {miles} miles')\n",
    "        else:\n",
    "            print(f'not enough charge')\n",
    "\n",
    "    def recharge(self):\n",
    "        self._battery_level = 100\n",
    "    \n",
    "    def _check_charge(self, miles):\n",
    "        if miles <= 2*self._battery_level:\n",
    "            return True\n",
    "        else:\n",
    "            return False\n",
    "    \n",
    "\n",
    "my_car = ElectricCar('Honda', 'Civic', '2006')\n",
    "print(my_car.start())\n"
   ]
  },
  {
   "cell_type": "code",
   "execution_count": 38,
   "metadata": {},
   "outputs": [
    {
     "name": "stdout",
     "output_type": "stream",
     "text": [
      "called father's method\n"
     ]
    }
   ],
   "source": [
    "# method resolution order.\n",
    "class mother:\n",
    "    def my_method(self):\n",
    "        print(\"called mother's method\")\n",
    "\n",
    "class father:\n",
    "    def my_method(self):\n",
    "        print(\"called father's method\")  \n",
    "\n",
    "class child(father, mother): #can inherit multiple classes\n",
    "    pass #if there are same methods in both classes it inherits from, it goes in order you call it, so father first if my_method called. \n",
    "    #if want mother, must do mother._my_method(self)*** For f(g(x)) you find g(x) first, just like this. Do inside class, then outside\n",
    "    #goes in reverse order, like stacking then interpreting, first thing in stack becomes last thing read/overwritten*** like a function\n",
    "\n",
    "child1=child()\n",
    "# which will it use? the mother's? or the father's?\n",
    "child1.my_method()"
   ]
  },
  {
   "cell_type": "code",
   "execution_count": null,
   "metadata": {},
   "outputs": [],
   "source": [
    "def print_length(obj):\n",
    "    \"\"\"\n",
    "    Prints the length of the given object as long as the object's class\n",
    "    definition has implemented the __len__ magic method.\n",
    "    \"\"\"\n",
    "    print(len(obj))\n",
    "\n",
    "print_length([1,2,3])\n",
    "print_length(('a','b','c'))\n",
    "print_length({'cat','dog'})\n",
    "print_length(\"CSE 2050\")"
   ]
  },
  {
   "cell_type": "code",
   "execution_count": null,
   "metadata": {},
   "outputs": [],
   "source": []
  },
  {
   "cell_type": "code",
   "execution_count": null,
   "metadata": {},
   "outputs": [],
   "source": [
    "# Given two lists L1 and L2, \n",
    "# calculate the average of each list \n",
    "# and store the averages in variables avg1 and avg2\n",
    "\n",
    "L1 = [1,2,3]\n",
    "L2 = []"
   ]
  },
  {
   "cell_type": "code",
   "execution_count": null,
   "metadata": {},
   "outputs": [],
   "source": [
    "# Average of two lists, version 1\n",
    "avg1 = sum(L1)/len(L1)\n",
    "avg2 = sum(L2)/len(L2)\n",
    "\n",
    "print(avg1)\n",
    "print(avg2)"
   ]
  },
  {
   "cell_type": "code",
   "execution_count": null,
   "metadata": {},
   "outputs": [],
   "source": [
    "# version 2\n",
    "if len(L1) == 0: \n",
    "    avg1 = 0 \n",
    "else:\n",
    "    avg1 = sum(L1)/len(L1)\n",
    "if len(L2) == 0: \n",
    "    avg2 = 0\n",
    "else:\n",
    "    avg2 = sum(L2)/len(L2)\n",
    "\n",
    "print(avg1)\n",
    "print(avg2)"
   ]
  },
  {
   "cell_type": "code",
   "execution_count": null,
   "metadata": {},
   "outputs": [],
   "source": [
    "# version 3\n",
    "def avg(L): \n",
    "    if len(L) == 0: \n",
    "        return 0 \n",
    "    else: \n",
    "        return sum(L)/len(L)\n",
    "\n",
    "avg1 = avg(L1)\n",
    "avg2 = avg(L2)\n",
    "\n",
    "print(avg1)\n",
    "print(avg2)"
   ]
  }
 ],
 "metadata": {
  "kernelspec": {
   "display_name": "Python 3",
   "language": "python",
   "name": "python3"
  },
  "language_info": {
   "codemirror_mode": {
    "name": "ipython",
    "version": 3
   },
   "file_extension": ".py",
   "mimetype": "text/x-python",
   "name": "python",
   "nbconvert_exporter": "python",
   "pygments_lexer": "ipython3",
   "version": "3.11.9"
  }
 },
 "nbformat": 4,
 "nbformat_minor": 2
}
