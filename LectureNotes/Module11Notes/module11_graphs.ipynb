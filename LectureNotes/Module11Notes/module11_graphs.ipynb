{
 "cells": [
  {
   "cell_type": "markdown",
   "metadata": {},
   "source": [
    "## Graphs"
   ]
  },
  {
   "cell_type": "markdown",
   "metadata": {},
   "source": [
    "### EdgeSetGraph"
   ]
  },
  {
   "cell_type": "code",
   "execution_count": null,
   "metadata": {},
   "outputs": [
    {
     "name": "stdout",
     "output_type": "stream",
     "text": [
      "1\n",
      "2\n",
      "3\n",
      "4\n",
      "5\n",
      "6\n",
      "7\n",
      "8\n",
      "9\n",
      "10\n",
      "(1, 2)\n",
      "(3, 4)\n",
      "(6, 8)\n",
      "(4, 6)\n",
      "(8, 10)\n",
      "(2, 3)\n",
      "(6, 7)\n",
      "(7, 9)\n",
      "(5, 6)\n",
      "(3, 5)\n",
      "True\n",
      "False\n",
      "4\n",
      "5\n"
     ]
    }
   ],
   "source": [
    "class EdgeSetGraph:\n",
    "    def __init__(self, V=(), E=()):\n",
    "        \"\"\"Initialize a new graph with vertex set V and edge set E.\"\"\"\n",
    "        self._V = set()\n",
    "        self._E = set()\n",
    "        for v in V:\n",
    "            self.add_vertex(v)\n",
    "        for u, v in E:\n",
    "            self.add_edge(u, v)\n",
    "\n",
    "    def add_vertex(self, v):\n",
    "        \"\"\"Add a new vertex v to the graph.\"\"\"\n",
    "        self._V.add(v) #adds node\n",
    "\n",
    "    def add_edge(self, u, v):\n",
    "        \"\"\"Add a new edge (u,v) to the graph.\"\"\"\n",
    "        self._E.add((u, v)) #adds connection \n",
    "\n",
    "    def remove_edge(self, u, v):\n",
    "        \"\"\"Remove the edge (u, v) from the graph.\"\"\"\n",
    "        self._E.remove((u, v)) #removes connection\n",
    "\n",
    "\n",
    "    def __contains__(self, v):\n",
    "        \"\"\"Return True if the vertex v is in the graph and return False otherwise.\"\"\"\n",
    "        return v in self._V #Whether in vertice in graph or not\n",
    "\n",
    "    def has_edge(self, u, v):\n",
    "        \"\"\"Return True if the edge (u, v) is in the graph and return False otherwise.\"\"\"\n",
    "        return (u, v) in self._E #whether a edge exists (connection)\n",
    "        \n",
    "    def vertices(self):\n",
    "        \"\"\"Returns an iterator over the collection of the vertices.\"\"\"\n",
    "        return iter(self._V) #returns vertices\n",
    "\n",
    "    def edges(self):\n",
    "        \"\"\"Returns an iterator over the collection of the edges.\"\"\"\n",
    "        return iter(self._E)\n",
    "\n",
    "    def __len__(self):\n",
    "        \"\"\"Return the number of vertices in the graph.\"\"\"\n",
    "        return len(self._V) #Returns number of vertices, can unnecesarily increase length, or no edges = no length even if vertices\n",
    "\n",
    "    def neighbors(self, v):\n",
    "        \"\"\"Returns a iterator over the out-neighbors of v.\"\"\"\n",
    "        for i, j in self._E: #for pair, if first one in pair (vertex pointing) means there is an out-neighbor\n",
    "            if i == v:\n",
    "                yield j #O(n) where n = len(E), edge set, slow, change needed\n",
    "                #yield iterates through neigbhors\n",
    "\n",
    "    ############################\n",
    "    #Practice Practice Practice#\n",
    "    ############################\n",
    "\n",
    "    # add the edges to hopscotch\n",
    "hopscotch = EdgeSetGraph(V = {1, 2, 3, 4, 5, 6, 7, 8, 9, 10})\n",
    "\n",
    "for v in hopscotch.vertices():\n",
    "    print(v)\n",
    "\n",
    "hopscotch.add_edge(1,2)\n",
    "hopscotch.add_edge(2,3)\n",
    "hopscotch.add_edge(3,4)\n",
    "hopscotch.add_edge(3,5)\n",
    "hopscotch.add_edge(4,6)\n",
    "hopscotch.add_edge(5,6)\n",
    "hopscotch.add_edge(6,7)\n",
    "hopscotch.add_edge(6,8)\n",
    "hopscotch.add_edge(7,9)\n",
    "hopscotch.add_edge(8,10)\n",
    "\n"
   ]
  },
  {
   "cell_type": "code",
   "execution_count": null,
   "metadata": {},
   "outputs": [
    {
     "name": "stdout",
     "output_type": "stream",
     "text": [
      "(1, 2)\n",
      "(3, 4)\n",
      "(6, 8)\n",
      "(4, 6)\n",
      "(8, 10)\n",
      "(2, 3)\n",
      "(6, 7)\n",
      "(7, 9)\n",
      "(5, 6)\n",
      "(3, 5)\n",
      "True\n",
      "False\n",
      "4\n",
      "5\n"
     ]
    }
   ],
   "source": [
    "# create a graph called hopscotch and initialize it with vertices 1-10\n",
    "for e in hopscotch.edges():\n",
    "    print(e)\n"
   ]
  },
  {
   "cell_type": "code",
   "execution_count": 9,
   "metadata": {},
   "outputs": [
    {
     "name": "stdout",
     "output_type": "stream",
     "text": [
      "4\n",
      "5\n"
     ]
    }
   ],
   "source": [
    "# print the vertices of hopscotch\n",
    "for n in hopscotch.neighbors(3):\n",
    "    print(n)"
   ]
  },
  {
   "cell_type": "code",
   "execution_count": 10,
   "metadata": {},
   "outputs": [
    {
     "name": "stdout",
     "output_type": "stream",
     "text": [
      "True\n",
      "False\n"
     ]
    }
   ],
   "source": [
    "print(hopscotch.has_edge(7,9))\n",
    "print(hopscotch.has_edge(6,9))\n"
   ]
  },
  {
   "cell_type": "code",
   "execution_count": null,
   "metadata": {},
   "outputs": [],
   "source": [
    "# print the edges of hopscotch\n"
   ]
  },
  {
   "cell_type": "code",
   "execution_count": null,
   "metadata": {},
   "outputs": [],
   "source": [
    "# check for edges\n"
   ]
  },
  {
   "cell_type": "code",
   "execution_count": null,
   "metadata": {},
   "outputs": [],
   "source": [
    "# return the neighbors of 3\n",
    "for n in hopscotch.neighbors(6):\n",
    "    print(n)"
   ]
  },
  {
   "cell_type": "markdown",
   "metadata": {},
   "source": [
    "### AdjacencySetGraph"
   ]
  },
  {
   "cell_type": "code",
   "execution_count": 2,
   "metadata": {},
   "outputs": [],
   "source": [
    "class AdjacencySetGraph: #Adjaceny Matrix!\n",
    "    def __init__(self, V=(), E=()):\n",
    "        \"\"\"Initialize a new graph with vertex set V and edge set E.\"\"\"\n",
    "        self._neighbors = {} #we now have dict of neighbors, so keys are vertex and keys are connections\n",
    "        for v in V:\n",
    "            self.add_vertex(v)\n",
    "        for u, v in E:\n",
    "            self.add_edge(u, v)\n",
    "\n",
    "\n",
    "    def add_vertex(self, v):\n",
    "        \"\"\"Add a new vertex v to the graph.\"\"\"\n",
    "        self._neighbors[v] = set() #add to dictionary\n",
    "\n",
    "    def add_edge(self, u, v):\n",
    "        \"\"\"Add a new edge (u,v) to the graph.\"\"\"\n",
    "        self._neighbors[u].add(v) #add new neighbor to u\n",
    "\n",
    "    def remove_edge(self, u, v):\n",
    "        \"\"\"Remove the edge (u, v) from the graph.\"\"\"\n",
    "        self._neighbors[u].remove(v)\n",
    "\n",
    "\n",
    "    def __contains__(self, v):\n",
    "        \"\"\"Return True if the vertex v is in the graph and return False otherwise.\"\"\"\n",
    "        return v in self._neighbors\n",
    "\n",
    "    def has_edge(self, u, v):\n",
    "        \"\"\"Return True if the edge (u, v) is in the graph and return False otherwise.\"\"\"\n",
    "        return v in self._neighbors[u]\n",
    "\n",
    "\n",
    "    def vertices(self):\n",
    "        \"\"\"Returns an iterator over the collection of the vertices.\"\"\"\n",
    "        return iter(self._neighbors) #all keys are needed, O(V)\n",
    "\n",
    "    def edges(self):\n",
    "        \"\"\"Returns an iterator over the collection of the edges.\"\"\"\n",
    "        for u in self._V:\n",
    "            for v in self.neighbors[u]:\n",
    "                yield (u, v) #O(V + E) since you look at a vertex, then add its edges to the running time. Add all vertexes and corresponding E\n",
    "                #Mostly O(E) since its usually much more, but if no edges O(V)\n",
    "\n",
    "    def __len__(self):\n",
    "        \"\"\"Return the number of vertices in the graph.\"\"\"\n",
    "        return len(self._neighbors)\n",
    "\n",
    "    def neighbors(self, v):\n",
    "        \"\"\"Returns an generator of the out-neighbors of v.\"\"\"\n",
    "        return iter(self._neighbors[v]) #O(Ev) just edges of a vertex, edges are out neighbors, what youre following\n",
    "\n",
    "\n",
    "    def is_path(self, seq):\n",
    "        \"\"\"Returns True if and only if the vertices in seq form a path in the graph.\"\"\"\n",
    "        return len(seq) > 0 and all(self.has_edge(seq[i-1], seq[i]) for i in range(1, len(seq)))\n",
    "\n",
    "    def is_simple_path(self, seq):\n",
    "        \"\"\"Returns True if and only if the vertices in seq form a simple path in the graph.\"\"\"\n",
    "        return self.is_path(seq) and len(seq) == len(set(seq))\n",
    "\n",
    "    def is_cycle(self, seq):\n",
    "        \"\"\"Returns True if and only if the vertices in seq form a cycle in the graph.\"\"\"\n",
    "        return self.is_path(seq) and seq[0] == seq[-1]\n",
    "\n",
    "    def connected(self, a, b):\n",
    "        \"\"\"Returns True if and only if a and b are connected.\"\"\"\n",
    "        return self._connected(a, b, set())\n",
    "\n",
    "    def _connected(self, a, b, visited):\n",
    "        if a in visited:\n",
    "            return False\n",
    "        if a == b:\n",
    "            return True\n",
    "        visited.add(a) #sees if there is a path to a node\n",
    "        for n in self.neighbors(a):\n",
    "            if self._connected(n, b, visited):\n",
    "                return True\n",
    "        return False\n"
   ]
  },
  {
   "cell_type": "code",
   "execution_count": 3,
   "metadata": {},
   "outputs": [],
   "source": [
    "# initialize the hopscotch graph using AdjacencySetGraph\n",
    "hopscotch2 = AdjacencySetGraph(\n",
    "    V=range(1,11), \n",
    "    E=((1,2), (2,3), (3,4), (3,5), (4,6), (5,6), (6,7), (6,8), (7,9), (8,10))\n",
    "    )"
   ]
  },
  {
   "cell_type": "code",
   "execution_count": null,
   "metadata": {},
   "outputs": [],
   "source": [
    "# return the neighbors of 3\n"
   ]
  },
  {
   "cell_type": "code",
   "execution_count": null,
   "metadata": {},
   "outputs": [],
   "source": [
    "# are 1 and 10 connected?\n"
   ]
  },
  {
   "cell_type": "markdown",
   "metadata": {},
   "source": [
    "### UndirectedAdjacencySetGraph"
   ]
  },
  {
   "cell_type": "code",
   "execution_count": 4,
   "metadata": {},
   "outputs": [],
   "source": [
    "class UndirectedAdjacencySetGraph(AdjacencySetGraph):\n",
    "    #Uses same properties as AS, but makes everything two-way\n",
    "    def add_edge(self, u, v):\n",
    "        \"\"\"Add a new edge (u,v) to the graph.\"\"\"\n",
    "        AdjacencySetGraph.add_edge(self, u, v) #makes it a two way streak, only change\n",
    "        AdjacencySetGraph.add_edge(self, v, u)\n",
    "\n",
    "    def remove_edge(self, u, v):\n",
    "        \"\"\"Remove the edge (u, v) from the graph.\"\"\"\n",
    "        AdjacencySetGraph.remove_edge(self, u, v)\n",
    "        AdjacencySetGraph.remove_edge(self, v, u)\n",
    "\n",
    "    def edges(self):\n",
    "        \"\"\"Returns an iterable collection of the edges.\"\"\"\n",
    "        E = {frozenset(e) for e in AdjacencySetGraph.edges(self)}\n",
    "        return iter(E)"
   ]
  },
  {
   "cell_type": "markdown",
   "metadata": {},
   "source": [
    "### Depth-First Search"
   ]
  },
  {
   "cell_type": "code",
   "execution_count": null,
   "metadata": {},
   "outputs": [
    {
     "ename": "ModuleNotFoundError",
     "evalue": "No module named 'nbformat'",
     "output_type": "error",
     "traceback": [
      "\u001b[1;31m---------------------------------------------------------------------------\u001b[0m",
      "\u001b[1;31mModuleNotFoundError\u001b[0m                       Traceback (most recent call last)",
      "Cell \u001b[1;32mIn[5], line 1\u001b[0m\n\u001b[1;32m----> 1\u001b[0m \u001b[38;5;28;01mimport\u001b[39;00m\u001b[38;5;250m \u001b[39m\u001b[38;5;21;01mnbimporter\u001b[39;00m\n\u001b[0;32m      2\u001b[0m \u001b[38;5;28;01mfrom\u001b[39;00m\u001b[38;5;250m \u001b[39m\u001b[38;5;21;01mmodule04_linear\u001b[39;00m\u001b[38;5;250m \u001b[39m\u001b[38;5;28;01mimport\u001b[39;00m ListStack\n\u001b[0;32m      4\u001b[0m \u001b[38;5;28;01mdef\u001b[39;00m\u001b[38;5;250m \u001b[39m\u001b[38;5;21mdfs\u001b[39m(G, v):\n",
      "File \u001b[1;32m~\\AppData\\Local\\Packages\\PythonSoftwareFoundation.Python.3.11_qbz5n2kfra8p0\\LocalCache\\local-packages\\Python311\\site-packages\\nbimporter.py:23\u001b[0m\n\u001b[0;32m      1\u001b[0m \u001b[38;5;124;03m\"\"\"\u001b[39;00m\n\u001b[0;32m      2\u001b[0m \u001b[38;5;124;03mAllow for importing of IPython Notebooks as modules from Jupyter v4.\u001b[39;00m\n\u001b[0;32m      3\u001b[0m \n\u001b[1;32m   (...)\u001b[0m\n\u001b[0;32m     19\u001b[0m \u001b[38;5;124;03mnbimporter.options['encoding']. The default is 'utf-8'.\u001b[39;00m\n\u001b[0;32m     20\u001b[0m \u001b[38;5;124;03m\"\"\"\u001b[39;00m\n\u001b[0;32m     22\u001b[0m \u001b[38;5;28;01mimport\u001b[39;00m\u001b[38;5;250m \u001b[39m\u001b[38;5;21;01mio\u001b[39;00m\u001b[38;5;241m,\u001b[39m\u001b[38;5;250m \u001b[39m\u001b[38;5;21;01mos\u001b[39;00m\u001b[38;5;241m,\u001b[39m\u001b[38;5;250m \u001b[39m\u001b[38;5;21;01msys\u001b[39;00m\u001b[38;5;241m,\u001b[39m\u001b[38;5;250m \u001b[39m\u001b[38;5;21;01mtypes\u001b[39;00m\u001b[38;5;241m,\u001b[39m\u001b[38;5;250m \u001b[39m\u001b[38;5;21;01mast\u001b[39;00m\n\u001b[1;32m---> 23\u001b[0m \u001b[38;5;28;01mimport\u001b[39;00m\u001b[38;5;250m \u001b[39m\u001b[38;5;21;01mnbformat\u001b[39;00m\n\u001b[0;32m     24\u001b[0m \u001b[38;5;28;01mfrom\u001b[39;00m\u001b[38;5;250m \u001b[39m\u001b[38;5;21;01mIPython\u001b[39;00m\u001b[38;5;250m \u001b[39m\u001b[38;5;28;01mimport\u001b[39;00m get_ipython\n\u001b[0;32m     25\u001b[0m \u001b[38;5;28;01mfrom\u001b[39;00m\u001b[38;5;250m \u001b[39m\u001b[38;5;21;01mIPython\u001b[39;00m\u001b[38;5;21;01m.\u001b[39;00m\u001b[38;5;21;01mcore\u001b[39;00m\u001b[38;5;21;01m.\u001b[39;00m\u001b[38;5;21;01minteractiveshell\u001b[39;00m\u001b[38;5;250m \u001b[39m\u001b[38;5;28;01mimport\u001b[39;00m InteractiveShell\n",
      "\u001b[1;31mModuleNotFoundError\u001b[0m: No module named 'nbformat'"
     ]
    }
   ],
   "source": [
    "import nbimporter\n",
    "from module04_linear import ListStack\n",
    "\n",
    "def dfs(G, v):\n",
    "    tree = {}\n",
    "    to_visit = ListStack()\n",
    "    to_visit.push((None, v))\n",
    "    while not to_visit.is_empty():\n",
    "        prev, curr = to_visit.pop()\n",
    "        if curr not in tree:\n",
    "            tree[curr] = prev\n",
    "            for n in G.neighbors(curr):\n",
    "                to_visit.push((curr, n))\n",
    "    return tree\n"
   ]
  },
  {
   "cell_type": "code",
   "execution_count": null,
   "metadata": {},
   "outputs": [],
   "source": []
  },
  {
   "cell_type": "markdown",
   "metadata": {},
   "source": [
    "### Breadth-First Search"
   ]
  },
  {
   "cell_type": "code",
   "execution_count": null,
   "metadata": {},
   "outputs": [],
   "source": [
    "import nbimporter\n",
    "from module04_linear import ListQueue\n",
    "\n",
    "def bfs(G, v):\n",
    "    tree = {}\n",
    "    to_visit = ListQueue()\n",
    "    to_visit.enqueue((None, v))\n",
    "    while not to_visit.is_empty():\n",
    "        prev, curr = to_visit.dequeue()\n",
    "        if curr not in tree:\n",
    "            tree[curr] = prev\n",
    "            for n in G.neighbors(curr):\n",
    "                to_visit.enqueue((curr, n))\n",
    "    return tree"
   ]
  },
  {
   "cell_type": "code",
   "execution_count": null,
   "metadata": {},
   "outputs": [],
   "source": []
  }
 ],
 "metadata": {
  "kernelspec": {
   "display_name": "Python 3",
   "language": "python",
   "name": "python3"
  },
  "language_info": {
   "codemirror_mode": {
    "name": "ipython",
    "version": 3
   },
   "file_extension": ".py",
   "mimetype": "text/x-python",
   "name": "python",
   "nbconvert_exporter": "python",
   "pygments_lexer": "ipython3",
   "version": "3.11.9"
  }
 },
 "nbformat": 4,
 "nbformat_minor": 2
}
