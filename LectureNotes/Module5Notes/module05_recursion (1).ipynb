{
 "cells": [
  {
   "cell_type": "markdown",
   "metadata": {},
   "source": [
    "### Code to accompany Module 5: Recursion"
   ]
  },
  {
   "cell_type": "code",
   "execution_count": null,
   "metadata": {},
   "outputs": [],
   "source": [
    "def factorial(n):\n",
    "    if n == 0:\n",
    "        return 1\n",
    "    return n * factorial(n-1) #has to call function n times O(n)"
   ]
  },
  {
   "cell_type": "code",
   "execution_count": 3,
   "metadata": {},
   "outputs": [
    {
     "data": {
      "text/plain": [
       "120"
      ]
     },
     "execution_count": 3,
     "metadata": {},
     "output_type": "execute_result"
    }
   ],
   "source": [
    "\n",
    "factorial(5)"
   ]
  },
  {
   "cell_type": "code",
   "execution_count": null,
   "metadata": {},
   "outputs": [],
   "source": [
    "def inc(x):\n",
    "    return x + 1\n",
    "\n",
    "def incThenDouble(x):\n",
    "    return 2 * inc(x)\n",
    "\n",
    "def justDoIt(x):\n",
    "    return incThenDouble(x) #call stack calls justDoIt, incThenDouble, inc, LIFO,inc is done first, then incThenDouble then justDoIt\n",
    "\n",
    "justDoIt(4)"
   ]
  },
  {
   "cell_type": "code",
   "execution_count": null,
   "metadata": {},
   "outputs": [],
   "source": [
    "def sumToN_recur(n):\n",
    "    if n == 0:\n",
    "        return 0\n",
    "    return n + sumToN_recur(n-1)"
   ]
  },
  {
   "cell_type": "code",
   "execution_count": null,
   "metadata": {},
   "outputs": [],
   "source": [
    "def sumToN_iter(n):\n",
    "    sum = 0\n",
    "    for i in range(1,n+1):\n",
    "        sum += i\n",
    "    return sum"
   ]
  },
  {
   "cell_type": "code",
   "execution_count": 11,
   "metadata": {},
   "outputs": [
    {
     "name": "stdout",
     "output_type": "stream",
     "text": [
      "102334155\n"
     ]
    }
   ],
   "source": [
    "def fib(k):\n",
    "    if k == 0:\n",
    "        return(0)\n",
    "    if k == 1:\n",
    "        return(1)\n",
    "    return(fib(k-1) + fib(k-2)) #werid calling stack, fib(k-1) calls more. 2^n times (O(2^n)) very bad\n",
    "print(fib(40))"
   ]
  },
  {
   "cell_type": "code",
   "execution_count": null,
   "metadata": {},
   "outputs": [
    {
     "name": "stdout",
     "output_type": "stream",
     "text": [
      "1836311903\n"
     ]
    }
   ],
   "source": [
    "def fib(k, cache = {0:0, 1:1}): #if you can store cache somewhere, can make very good function \n",
    "    if k not in cache:\n",
    "        cache[k] = fib(k-1, cache) + fib(k-2, cache)\n",
    "    return(cache[k])\n",
    "\n",
    "print(fib(46))"
   ]
  },
  {
   "cell_type": "code",
   "execution_count": 20,
   "metadata": {},
   "outputs": [],
   "source": [
    "pass"
   ]
  },
  {
   "cell_type": "code",
   "execution_count": 8,
   "metadata": {},
   "outputs": [
    {
     "name": "stdout",
     "output_type": "stream",
     "text": [
      "2\n"
     ]
    }
   ],
   "source": [
    "def minCoinChange(coinValues, amount):\n",
    "\n",
    "    minCoins = {0:0}\n",
    "    for cents in range(1, amount+1):\n",
    "        minCoins[cents] = float('inf')\n",
    "        \n",
    "        for c in coinValues:\n",
    "            if c <= cents:\n",
    "                minCoins[cents] = min(minCoins[cents], 1 + minCoins[cents - c])\n",
    "    return(minCoins[amount])\n",
    "    \n",
    "\n",
    "\n",
    "coins = [3, 4]\n",
    "print(minCoinChange(coins, 6))\n"
   ]
  }
 ],
 "metadata": {
  "kernelspec": {
   "display_name": "Python 3",
   "language": "python",
   "name": "python3"
  },
  "language_info": {
   "codemirror_mode": {
    "name": "ipython",
    "version": 3
   },
   "file_extension": ".py",
   "mimetype": "text/x-python",
   "name": "python",
   "nbconvert_exporter": "python",
   "pygments_lexer": "ipython3",
   "version": "3.11.9"
  }
 },
 "nbformat": 4,
 "nbformat_minor": 2
}
