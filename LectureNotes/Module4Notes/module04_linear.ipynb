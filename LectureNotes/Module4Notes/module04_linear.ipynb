{
 "cells": [
  {
   "cell_type": "markdown",
   "metadata": {},
   "source": [
    "### Code to accompany Module 4: Linear Data Structures"
   ]
  },
  {
   "cell_type": "markdown",
   "metadata": {},
   "source": [
    "### Stacks"
   ]
  },
  {
   "cell_type": "code",
   "execution_count": 2,
   "metadata": {},
   "outputs": [
    {
     "name": "stdout",
     "output_type": "stream",
     "text": [
      "True\n",
      "None\n",
      "None\n",
      "8\n",
      "1\n",
      "None\n",
      "2\n",
      "False\n"
     ]
    }
   ],
   "source": [
    "class ListStack:\n",
    "    def __init__(self):\n",
    "        self._L = []\n",
    "    \n",
    "    def push(self, item):\n",
    "        self._L.append(item)\n",
    "\n",
    "    def pop(self):\n",
    "        return self._L.pop()\n",
    "\n",
    "    def peek(self):\n",
    "        return self._L[-1]\n",
    "\n",
    "    def __len__(self):\n",
    "        return len(self._L)\n",
    "\n",
    "    def isEmpty(self):\n",
    "        return len(self) == 0\n",
    "    \n",
    "stack=ListStack()\n",
    "\n",
    "print(stack.isEmpty())\n",
    "print(stack.push(1))\n",
    "print(stack.push(8))\n",
    "print(stack.pop())\n",
    "print(stack.peek())\n",
    "print(stack.push(4))\n",
    "print(len(stack))\n",
    "print(stack.isEmpty())"
   ]
  },
  {
   "cell_type": "code",
   "execution_count": null,
   "metadata": {},
   "outputs": [
    {
     "ename": "NameError",
     "evalue": "name 'ListStack' is not defined",
     "output_type": "error",
     "traceback": [
      "\u001b[1;31m---------------------------------------------------------------------------\u001b[0m",
      "\u001b[1;31mNameError\u001b[0m                                 Traceback (most recent call last)",
      "Cell \u001b[1;32mIn[1], line 2\u001b[0m\n\u001b[0;32m      1\u001b[0m \u001b[38;5;66;03m# Test the stack methods here\u001b[39;00m\n\u001b[1;32m----> 2\u001b[0m stack \u001b[38;5;241m=\u001b[39m \u001b[43mListStack\u001b[49m()\n\u001b[0;32m      4\u001b[0m \u001b[38;5;28mprint\u001b[39m(stack\u001b[38;5;241m.\u001b[39misEmpty())\n\u001b[0;32m      5\u001b[0m \u001b[38;5;28mprint\u001b[39m(stack\u001b[38;5;241m.\u001b[39mpush(\u001b[38;5;241m1\u001b[39m))\n",
      "\u001b[1;31mNameError\u001b[0m: name 'ListStack' is not defined"
     ]
    }
   ],
   "source": [
    "# Test the stack methods here\n",
    "stack = ListStack()\n",
    "\n",
    "print(stack.isEmpty())\n",
    "print(stack.push(1))\n",
    "print(stack.push(8))\n",
    "print(stack.pop())\n",
    "print(stack.peek())\n",
    "print(stack.push(4))\n",
    "print(len(stack))\n",
    "print(stack.isEmpty())\n",
    "# etc."
   ]
  },
  {
   "cell_type": "markdown",
   "metadata": {},
   "source": [
    "### Queues"
   ]
  },
  {
   "cell_type": "code",
   "execution_count": 6,
   "metadata": {},
   "outputs": [],
   "source": [
    "class ListQueue:\n",
    "    def __init__(self):\n",
    "        self._L = []\n",
    "    \n",
    "    def enqueue(self, item):\n",
    "        self._L.append(item)\n",
    "\n",
    "    def dequeue(self):\n",
    "        return self._L.pop(0)\n",
    "\n",
    "    def peek(self):\n",
    "        return self._L[0]\n",
    "\n",
    "    def __len__(self):\n",
    "        return len(self._L)\n",
    "\n",
    "    def isEmpty(self):\n",
    "        return len(self) == 0"
   ]
  },
  {
   "cell_type": "code",
   "execution_count": null,
   "metadata": {},
   "outputs": [],
   "source": [
    "# Test the queue methods here\n",
    "queue = ListQueue()\n",
    "\n",
    "queue.isEmpty() \n",
    "# etc."
   ]
  },
  {
   "cell_type": "code",
   "execution_count": null,
   "metadata": {},
   "outputs": [],
   "source": [
    "# Lazy Updates\n",
    "class ListQueue2:\n",
    "    def __init__(self):\n",
    "        self._head = 0\n",
    "        self._L = []\n",
    "    \n",
    "    def enqueue(self, item):\n",
    "        self._L.append(item)\n",
    "\n",
    "    def dequeue(self):\n",
    "        item = self.peek()\n",
    "        self._head += 1\n",
    "        return item\n",
    "\n",
    "    def peek(self):\n",
    "        return self._L[self._head]\n",
    "\n",
    "    def __len__(self):\n",
    "        return len(self._L) - self._head\n",
    "\n",
    "    def isEmpty(self):\n",
    "        return len(self) == 0"
   ]
  },
  {
   "cell_type": "markdown",
   "metadata": {},
   "source": [
    "### Error Messages"
   ]
  },
  {
   "cell_type": "code",
   "execution_count": null,
   "metadata": {},
   "outputs": [],
   "source": [
    "# What happens when we try to use pop() on an empty stack?\n",
    "s = ListStack()\n",
    "s.push(17)\n",
    "s.pop()\n",
    "s.pop()"
   ]
  },
  {
   "cell_type": "code",
   "execution_count": 8,
   "metadata": {},
   "outputs": [],
   "source": [
    "# Use try-except and raise an error\n",
    "class ListStack:\n",
    "    def __init__(self):\n",
    "        self._L = []\n",
    "    \n",
    "    def push(self, item):\n",
    "        self._L.append(item)\n",
    "\n",
    "    def pop(self):\n",
    "        try:\n",
    "            return self._L.pop()\n",
    "        except:\n",
    "            raise RuntimeError(\"pop from empty stack\")\n",
    "\n",
    "    def peek(self):\n",
    "        return self._L[-1]\n",
    "\n",
    "    def __len__(self):\n",
    "        return len(self._L)\n",
    "\n",
    "    def isEmpty(self):\n",
    "        return len(self) == 0"
   ]
  },
  {
   "cell_type": "code",
   "execution_count": null,
   "metadata": {},
   "outputs": [],
   "source": [
    "# Test\n",
    "s = ListStack()\n",
    "s.push(17)\n",
    "s.pop()\n",
    "s.pop()"
   ]
  },
  {
   "cell_type": "code",
   "execution_count": 10,
   "metadata": {},
   "outputs": [],
   "source": [
    "# Use try-except but only print an error\n",
    "class ListStack:\n",
    "    def __init__(self):\n",
    "        self._L = []\n",
    "    \n",
    "    def push(self, item):\n",
    "        self._L.append(item)\n",
    "\n",
    "    def pop(self):\n",
    "        try:\n",
    "            return self._L.pop()\n",
    "        except:\n",
    "            print(\"You just tried to pop from an empty stack.\")\n",
    "\n",
    "    def peek(self):\n",
    "        return self._L[-1]\n",
    "\n",
    "    def __len__(self):\n",
    "        return len(self._L)\n",
    "\n",
    "    def isEmpty(self):\n",
    "        return len(self) == 0"
   ]
  },
  {
   "cell_type": "code",
   "execution_count": null,
   "metadata": {},
   "outputs": [],
   "source": [
    "# Test\n",
    "s = ListStack()\n",
    "s.push(17)\n",
    "s.pop()\n",
    "s.pop()"
   ]
  },
  {
   "cell_type": "markdown",
   "metadata": {},
   "source": [
    "### Deques"
   ]
  },
  {
   "cell_type": "code",
   "execution_count": null,
   "metadata": {},
   "outputs": [],
   "source": [
    "class ListDeque:\n",
    "    def __init__(self):\n",
    "        self._L = []\n",
    "    \n",
    "    def addFirst(self, item):\n",
    "        self._L.insert(0, item)\n",
    "\n",
    "    def addLast(self, item):\n",
    "        self._L.append(item)\n",
    "\n",
    "    def removeFirst(self):\n",
    "        self._L.pop[0]\n",
    "\n",
    "    def removeLast(self):\n",
    "        self._L.pop()\n",
    "\n",
    "    def __len__(self):\n",
    "        return len(self._L)"
   ]
  },
  {
   "cell_type": "code",
   "execution_count": null,
   "metadata": {},
   "outputs": [],
   "source": [
    "deck = ListDeque()"
   ]
  },
  {
   "cell_type": "markdown",
   "metadata": {},
   "source": [
    "### Linked Lists"
   ]
  },
  {
   "cell_type": "code",
   "execution_count": null,
   "metadata": {},
   "outputs": [],
   "source": [
    "class ListNode:\n",
    "    def __init__(self, data, prev = None, link = None):\n",
    "        self.data = data\n",
    "        self.link = link\n",
    "        self.prev = prev\n",
    "        if prev is not None:\n",
    "            self.prev.link = self #if there is a previous item, its link is the node. Self is just node\n",
    "        if link is not None:\n",
    "            self.link.prev = self #same, if there is a next item, its previous item is the node. Sets up nodes\n",
    "\n",
    "        #item, 3rd, 2nd, makes it so 2nd link is new item and 3rd item is before item (new items) link***\n",
    "\n",
    "class LinkedList:\n",
    "    def __init__(self):\n",
    "        self._head = None\n",
    "        self._tail = None\n",
    "        self._length = 0\n",
    "\n",
    "        def add_first(self, item):\n",
    "            self._addBetween(item, None, self._head) #makes head the link\n",
    "\n",
    "        def remove_first(self):\n",
    "            return(self._remove(self._head))\n",
    "        \n",
    "        def remove_last(self):\n",
    "            return(self._remove(self._tail))\n",
    "\n",
    "        def _addBetween(self, item, before, after):\n",
    "            node = ListNode(item, before, after)\n",
    "            if after is self._head == node:\n",
    "                self._head = node\n",
    "            if before is self._tail:\n",
    "                self._tail = node\n",
    "            self._length += 1\n",
    "\n",
    "        def _remove(self, node):\n",
    "            before, after = node.prev, node.link\n",
    "            if node is self._head:\n",
    "                self._head = after\n",
    "            else:\n",
    "                before.link = after\n",
    "            if node is self._tail:\n",
    "                self._tail = before\n",
    "            else:\n",
    "                after.prev = before\n",
    "            self._length -= 1\n",
    "            return(node.data)\n",
    "        \n",
    "        def __len__(self):\n",
    "            return(self._length)\n",
    "        \n",
    "\n",
    "        def add_last(self, item):\n",
    "            self._addBetween(item, self._tail, None)"
   ]
  }
 ],
 "metadata": {
  "kernelspec": {
   "display_name": "Python 3",
   "language": "python",
   "name": "python3"
  },
  "language_info": {
   "codemirror_mode": {
    "name": "ipython",
    "version": 3
   },
   "file_extension": ".py",
   "mimetype": "text/x-python",
   "name": "python",
   "nbconvert_exporter": "python",
   "pygments_lexer": "ipython3",
   "version": "3.11.9"
  }
 },
 "nbformat": 4,
 "nbformat_minor": 2
}
